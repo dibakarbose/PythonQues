{
 "cells": [
  {
   "cell_type": "markdown",
   "metadata": {},
   "source": [
    "# Python Interview Questions"
   ]
  },
  {
   "cell_type": "markdown",
   "metadata": {},
   "source": [
    "### Q1. What are the key features of Python?"
   ]
  },
  {
   "cell_type": "markdown",
   "metadata": {},
   "source": [
    "These are the few key features of Python:\n",
    "<ol>\n",
    "<li> Python is an <strong>interpreted</strong> language. That means that, unlike languages like C and its variants, Python does not need to be compiled before it is run. Other interpreted languages include PHP and Ruby.</li>\n",
    "<li>Python is <strong>dynamically</strong> typed, this means that you don’t need to state the types of variables when you declare them or anything like that. You can do things like x=111 and then x=\"I'm a string\" without error</li>\n",
    "<li>Python is well suited to <strong>object oriented programming</strong> in that it allows the definition of classes along with composition and inheritance. Python does not have access specifiers (like C++’s public, private), the justification for this point is given as “we are all adults here”</li>\n",
    "<li>In Python, <strong><u>functions are first-class objects</u></strong>. This means that they can be assigned to variables, returned from other functions and passed into functions. Classes are also first class objects</li>\n",
    "<li><strong>Writing Python code is quick</strong> but running it is often slower than compiled languages. Fortunately，Python allows the inclusion of C based extensions so bottlenecks can be optimized away and often are. The numpy package is a good example of this, it’s really quite quick because a lot of the number crunching it does isn’t actually done by Python</li>\n",
    "<li>Python finds use in many spheres – <em>web applications, automation, scientific modelling, big data applications</em> and many more. It’s also often used as “glue” code to get other languages and components to play nice.</li>\n",
    "</ol>"
   ]
  },
  {
   "cell_type": "markdown",
   "metadata": {},
   "source": [
    "### Q2. What is the difference between deep and shallow copy?"
   ]
  },
  {
   "cell_type": "markdown",
   "metadata": {},
   "source": [
    "<strong><em>Shallow copy</em></strong> is used when a new instance type gets created and it keeps the values that are copied in the new instance. Shallow copy is used to copy the reference pointers just like it copies the values. These references point to the original objects and the changes made in any member of the class will also affect the original copy of it. Shallow copy allows faster execution of the program and it depends on the size of the data that is used.\n",
    "\n",
    "<strong><em>Deep copy</em></strong> is used to store the values that are already copied. Deep copy doesn’t copy the reference pointers to the objects. It makes the reference to an object and the new object that is pointed by some other object gets stored. The changes made in the original copy won’t affect any other copy that uses the object. Deep copy makes execution of the program slower due to making certain copies for each object that is been called."
   ]
  },
  {
   "cell_type": "code",
   "execution_count": 1,
   "metadata": {},
   "outputs": [
    {
     "name": "stdout",
     "output_type": "stream",
     "text": [
      "[1, 2, 3, 4, 11]\n",
      "[1, 2, 3, 4, 11]\n"
     ]
    }
   ],
   "source": [
    "#References\n",
    "l1=[1,2,3,4]\n",
    "l2=l1\n",
    "l2.append(11)\n",
    "print(l1)\n",
    "print(l2)"
   ]
  },
  {
   "cell_type": "code",
   "execution_count": 2,
   "metadata": {},
   "outputs": [
    {
     "name": "stdout",
     "output_type": "stream",
     "text": [
      "l1 =  [1, 2, 3, 4, 11]\n",
      "l2 =  [1, 2, 3, 4, 11]\n",
      "l3 =  [1, 2, 3, 4, 11, 10]\n"
     ]
    }
   ],
   "source": [
    "#Shallow Copy\n",
    "import copy\n",
    "l3=copy.copy(l1)  #l3 will have same value as l1\n",
    "l3.append(10)\n",
    "print(\"l1 = \",l1)\n",
    "print(\"l2 = \",l2)\n",
    "print(\"l3 = \",l3)"
   ]
  },
  {
   "cell_type": "code",
   "execution_count": 4,
   "metadata": {},
   "outputs": [
    {
     "name": "stdout",
     "output_type": "stream",
     "text": [
      "l1 =  [1, 2, 3, 4, 11]\n",
      "l2 =  [1, 2, 3, 4, 11]\n",
      "l3 =  [1, 2, 3, 4, 11, 10]\n",
      "l4 =  [1, 2, 3, 4, 11, 23]\n"
     ]
    }
   ],
   "source": [
    "#Deep Copy\n",
    "l4=copy.deepcopy(l1)\n",
    "l4.append(23)\n",
    "print(\"l1 = \",l1)\n",
    "print(\"l2 = \",l2)\n",
    "print(\"l3 = \",l3)\n",
    "print(\"l4 = \",l4)"
   ]
  },
  {
   "cell_type": "markdown",
   "metadata": {},
   "source": [
    "### Q3. What is the difference between list and tuples?"
   ]
  },
  {
   "cell_type": "markdown",
   "metadata": {},
   "source": [
    "<em>Lists</em> are mutable i.e they can be edited. \n",
    "Syntax: list_1 = [10, ‘Chelsea’, 20]\n",
    "\n",
    "<em>Tuples</em> are immutable (tuples are lists which can’t be edited). \n",
    "Syntax: tup_1 = (10, ‘Chelsea’ , 20)\n",
    "\n",
    "When you have fixed data and you know the size then you use tuple, Otherwise you can use list\n",
    "\n",
    "Fixed Memory,Fixed data,Memory intensice task--> Always use tuples\n",
    "Buffers, Queues, Stacks --> Always use lists"
   ]
  },
  {
   "cell_type": "markdown",
   "metadata": {},
   "source": [
    "### Q4. How is Multithreading achieved in Python?"
   ]
  },
  {
   "cell_type": "markdown",
   "metadata": {},
   "source": [
    "<ul>\n",
    "<li>Python has a multi-threading package but if you want to multi-thread to speed your code up.</li>\n",
    "<li>thon has a construct called the Global Interpreter Lock (GIL). The GIL makes sure that only one of your ‘threads’ can execute at any one time. A thread acquires the GIL, does a little work, then passes the GIL onto the next thread.</li>\n",
    "<li>This happens very quickly so to the human eye it may seem like your threads are executing in parallel, but they are really just taking turns using the same CPU core.</li>\n",
    "<li>All this GIL passing adds overhead to execution. This means that if you want to make your code run faster then using the threading package often isn’t a good idea.</li>\n",
    "</ul>\n",
    "\n",
    "Module to use :: <em>multiprocessing</em> and <em>threading</em>"
   ]
  },
  {
   "cell_type": "markdown",
   "metadata": {},
   "source": [
    "### Q5. How can the ternary operators be used in python?"
   ]
  },
  {
   "cell_type": "markdown",
   "metadata": {},
   "source": [
    "The Ternary operator is the operator that is used to show the conditional statements. This consists of the true or false values with a statement that has to be evaluated for it.\n",
    "\n",
    "<strong>Syntax:</strong><br>\n",
    "The Ternary operator will be given as:<br>\n",
    "[on_true] if [expression] else [on_false]x, y = 25, 50\n",
    "\n",
    "<blockquote>big = x if x < y else y</blockquote>\n",
    "<pre>The expression gets evaluated as in this case if x less than y is true then the value is returned as big=x and if it is incorrect then big=y will be sent as a result.</pre>"
   ]
  }
 ],
 "metadata": {
  "kernelspec": {
   "display_name": "Python 3",
   "language": "python",
   "name": "python3"
  },
  "language_info": {
   "codemirror_mode": {
    "name": "ipython",
    "version": 3
   },
   "file_extension": ".py",
   "mimetype": "text/x-python",
   "name": "python",
   "nbconvert_exporter": "python",
   "pygments_lexer": "ipython3",
   "version": "3.6.3"
  }
 },
 "nbformat": 4,
 "nbformat_minor": 2
}
